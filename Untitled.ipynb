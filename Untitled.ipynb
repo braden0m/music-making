{
 "cells": [
  {
   "cell_type": "code",
   "execution_count": 12,
   "id": "db44c537",
   "metadata": {},
   "outputs": [
    {
     "ename": "MIDIConversionError",
     "evalue": "Midi decoding error <class 'AttributeError'>: module 'numpy' has no attribute 'int'.\n`np.int` was a deprecated alias for the builtin `int`. To avoid this error in existing code, use `int` by itself. Doing this will not modify any behavior and is safe. When replacing `np.int`, you may wish to use e.g. `np.int64` or `np.int32` to specify the precision. If you wish to review your current use, check the release note link for additional information.\nThe aliases was originally deprecated in NumPy 1.20; for more details and guidance see the original release note at:\n    https://numpy.org/devdocs/release/1.20.0-notes.html#deprecations",
     "output_type": "error",
     "traceback": [
      "\u001b[1;31m---------------------------------------------------------------------------\u001b[0m",
      "\u001b[1;31mAttributeError\u001b[0m                            Traceback (most recent call last)",
      "File \u001b[1;32m~\\anaconda3\\envs\\py\\lib\\site-packages\\note_seq\\midi_io.py:69\u001b[0m, in \u001b[0;36mmidi_to_note_sequence\u001b[1;34m(midi_data)\u001b[0m\n\u001b[0;32m     68\u001b[0m \u001b[38;5;28;01mtry\u001b[39;00m:\n\u001b[1;32m---> 69\u001b[0m   midi \u001b[38;5;241m=\u001b[39m \u001b[43mpretty_midi\u001b[49m\u001b[38;5;241;43m.\u001b[39;49m\u001b[43mPrettyMIDI\u001b[49m\u001b[43m(\u001b[49m\u001b[43mio\u001b[49m\u001b[38;5;241;43m.\u001b[39;49m\u001b[43mBytesIO\u001b[49m\u001b[43m(\u001b[49m\u001b[43mmidi_data\u001b[49m\u001b[43m)\u001b[49m\u001b[43m)\u001b[49m\n\u001b[0;32m     70\u001b[0m \u001b[38;5;28;01mexcept\u001b[39;00m:\n",
      "File \u001b[1;32m~\\anaconda3\\envs\\py\\lib\\site-packages\\pretty_midi\\pretty_midi.py:104\u001b[0m, in \u001b[0;36mPrettyMIDI.__init__\u001b[1;34m(self, midi_file, resolution, initial_tempo)\u001b[0m\n\u001b[0;32m    103\u001b[0m     \u001b[38;5;66;03m# Populate the list of instruments\u001b[39;00m\n\u001b[1;32m--> 104\u001b[0m     \u001b[38;5;28;43mself\u001b[39;49m\u001b[38;5;241;43m.\u001b[39;49m\u001b[43m_load_instruments\u001b[49m\u001b[43m(\u001b[49m\u001b[43mmidi_data\u001b[49m\u001b[43m)\u001b[49m\n\u001b[0;32m    106\u001b[0m \u001b[38;5;28;01melse\u001b[39;00m:\n",
      "File \u001b[1;32m~\\anaconda3\\envs\\py\\lib\\site-packages\\pretty_midi\\pretty_midi.py:295\u001b[0m, in \u001b[0;36mPrettyMIDI._load_instruments\u001b[1;34m(self, midi_data)\u001b[0m\n\u001b[0;32m    293\u001b[0m \u001b[38;5;66;03m# Keep track of which instrument is playing in each channel\u001b[39;00m\n\u001b[0;32m    294\u001b[0m \u001b[38;5;66;03m# initialize to program 0 for all channels\u001b[39;00m\n\u001b[1;32m--> 295\u001b[0m current_instrument \u001b[38;5;241m=\u001b[39m np\u001b[38;5;241m.\u001b[39mzeros(\u001b[38;5;241m16\u001b[39m, dtype\u001b[38;5;241m=\u001b[39m\u001b[43mnp\u001b[49m\u001b[38;5;241;43m.\u001b[39;49m\u001b[43mint\u001b[49m)\n\u001b[0;32m    296\u001b[0m \u001b[38;5;28;01mfor\u001b[39;00m event \u001b[38;5;129;01min\u001b[39;00m track:\n\u001b[0;32m    297\u001b[0m     \u001b[38;5;66;03m# Look for track name events\u001b[39;00m\n",
      "File \u001b[1;32m~\\anaconda3\\envs\\py\\lib\\site-packages\\numpy\\__init__.py:305\u001b[0m, in \u001b[0;36m__getattr__\u001b[1;34m(attr)\u001b[0m\n\u001b[0;32m    304\u001b[0m \u001b[38;5;28;01mif\u001b[39;00m attr \u001b[38;5;129;01min\u001b[39;00m __former_attrs__:\n\u001b[1;32m--> 305\u001b[0m     \u001b[38;5;28;01mraise\u001b[39;00m \u001b[38;5;167;01mAttributeError\u001b[39;00m(__former_attrs__[attr])\n\u001b[0;32m    307\u001b[0m \u001b[38;5;66;03m# Importing Tester requires importing all of UnitTest which is not a\u001b[39;00m\n\u001b[0;32m    308\u001b[0m \u001b[38;5;66;03m# cheap import Since it is mainly used in test suits, we lazy import it\u001b[39;00m\n\u001b[0;32m    309\u001b[0m \u001b[38;5;66;03m# here to save on the order of 10 ms of import time for most users\u001b[39;00m\n\u001b[0;32m    310\u001b[0m \u001b[38;5;66;03m#\u001b[39;00m\n\u001b[0;32m    311\u001b[0m \u001b[38;5;66;03m# The previous way Tester was imported also had a side effect of adding\u001b[39;00m\n\u001b[0;32m    312\u001b[0m \u001b[38;5;66;03m# the full `numpy.testing` namespace\u001b[39;00m\n",
      "\u001b[1;31mAttributeError\u001b[0m: module 'numpy' has no attribute 'int'.\n`np.int` was a deprecated alias for the builtin `int`. To avoid this error in existing code, use `int` by itself. Doing this will not modify any behavior and is safe. When replacing `np.int`, you may wish to use e.g. `np.int64` or `np.int32` to specify the precision. If you wish to review your current use, check the release note link for additional information.\nThe aliases was originally deprecated in NumPy 1.20; for more details and guidance see the original release note at:\n    https://numpy.org/devdocs/release/1.20.0-notes.html#deprecations",
      "\nDuring handling of the above exception, another exception occurred:\n",
      "\u001b[1;31mMIDIConversionError\u001b[0m                       Traceback (most recent call last)",
      "Cell \u001b[1;32mIn[12], line 27\u001b[0m\n\u001b[0;32m     25\u001b[0m \u001b[38;5;28;01mif\u001b[39;00m filename\u001b[38;5;241m.\u001b[39mendswith(\u001b[38;5;124m\"\u001b[39m\u001b[38;5;124m.midi\u001b[39m\u001b[38;5;124m\"\u001b[39m) \u001b[38;5;129;01mor\u001b[39;00m filename\u001b[38;5;241m.\u001b[39mendswith(\u001b[38;5;124m\"\u001b[39m\u001b[38;5;124m.mid\u001b[39m\u001b[38;5;124m\"\u001b[39m):\n\u001b[0;32m     26\u001b[0m     midi_path \u001b[38;5;241m=\u001b[39m os\u001b[38;5;241m.\u001b[39mpath\u001b[38;5;241m.\u001b[39mjoin(folder_path, filename)\n\u001b[1;32m---> 27\u001b[0m     melody \u001b[38;5;241m=\u001b[39m \u001b[43mextract_melody\u001b[49m\u001b[43m(\u001b[49m\u001b[43mmidi_path\u001b[49m\u001b[43m)\u001b[49m\n\u001b[0;32m     28\u001b[0m     \u001b[38;5;28;01mif\u001b[39;00m melody \u001b[38;5;129;01mis\u001b[39;00m \u001b[38;5;129;01mnot\u001b[39;00m \u001b[38;5;28;01mNone\u001b[39;00m:\n\u001b[0;32m     29\u001b[0m         \u001b[38;5;28mprint\u001b[39m(\u001b[38;5;124mf\u001b[39m\u001b[38;5;124m\"\u001b[39m\u001b[38;5;124mMelody for \u001b[39m\u001b[38;5;132;01m{\u001b[39;00mfilename\u001b[38;5;132;01m}\u001b[39;00m\u001b[38;5;124m:\u001b[39m\u001b[38;5;124m\"\u001b[39m)\n",
      "Cell \u001b[1;32mIn[12], line 9\u001b[0m, in \u001b[0;36mextract_melody\u001b[1;34m(midi_path)\u001b[0m\n\u001b[0;32m      7\u001b[0m \u001b[38;5;28;01mdef\u001b[39;00m \u001b[38;5;21mextract_melody\u001b[39m(midi_path):\n\u001b[0;32m      8\u001b[0m     \u001b[38;5;66;03m# Parse the MIDI data for separate melody and accompaniment parts.\u001b[39;00m\n\u001b[1;32m----> 9\u001b[0m     sequence \u001b[38;5;241m=\u001b[39m \u001b[43mmidi_io\u001b[49m\u001b[38;5;241;43m.\u001b[39;49m\u001b[43mmidi_file_to_sequence_proto\u001b[49m\u001b[43m(\u001b[49m\u001b[43mmidi_path\u001b[49m\u001b[43m)\u001b[49m\n\u001b[0;32m     11\u001b[0m     \u001b[38;5;66;03m# Extract melodies from the sequence\u001b[39;00m\n\u001b[0;32m     12\u001b[0m     melodies \u001b[38;5;241m=\u001b[39m note_seq\u001b[38;5;241m.\u001b[39mmidi_io\u001b[38;5;241m.\u001b[39mextract_melodies(sequence)\n",
      "File \u001b[1;32m~\\anaconda3\\envs\\py\\lib\\site-packages\\note_seq\\midi_io.py:359\u001b[0m, in \u001b[0;36mmidi_file_to_sequence_proto\u001b[1;34m(midi_file)\u001b[0m\n\u001b[0;32m    357\u001b[0m \u001b[38;5;28;01mdef\u001b[39;00m \u001b[38;5;21mmidi_file_to_sequence_proto\u001b[39m(midi_file):\n\u001b[0;32m    358\u001b[0m \u001b[38;5;250m  \u001b[39m\u001b[38;5;124;03m\"\"\"Renamed to midi_file_to_note_sequence.\"\"\"\u001b[39;00m\n\u001b[1;32m--> 359\u001b[0m   \u001b[38;5;28;01mreturn\u001b[39;00m \u001b[43mmidi_file_to_note_sequence\u001b[49m\u001b[43m(\u001b[49m\u001b[43mmidi_file\u001b[49m\u001b[43m)\u001b[49m\n",
      "File \u001b[1;32m~\\anaconda3\\envs\\py\\lib\\site-packages\\note_seq\\midi_io.py:187\u001b[0m, in \u001b[0;36mmidi_file_to_note_sequence\u001b[1;34m(midi_file)\u001b[0m\n\u001b[0;32m    185\u001b[0m \u001b[38;5;28;01mwith\u001b[39;00m \u001b[38;5;28mopen\u001b[39m(midi_file, \u001b[38;5;124m'\u001b[39m\u001b[38;5;124mrb\u001b[39m\u001b[38;5;124m'\u001b[39m) \u001b[38;5;28;01mas\u001b[39;00m f:\n\u001b[0;32m    186\u001b[0m   midi_as_string \u001b[38;5;241m=\u001b[39m f\u001b[38;5;241m.\u001b[39mread()\n\u001b[1;32m--> 187\u001b[0m   \u001b[38;5;28;01mreturn\u001b[39;00m \u001b[43mmidi_to_note_sequence\u001b[49m\u001b[43m(\u001b[49m\u001b[43mmidi_as_string\u001b[49m\u001b[43m)\u001b[49m\n",
      "File \u001b[1;32m~\\anaconda3\\envs\\py\\lib\\site-packages\\note_seq\\midi_io.py:71\u001b[0m, in \u001b[0;36mmidi_to_note_sequence\u001b[1;34m(midi_data)\u001b[0m\n\u001b[0;32m     69\u001b[0m     midi \u001b[38;5;241m=\u001b[39m pretty_midi\u001b[38;5;241m.\u001b[39mPrettyMIDI(io\u001b[38;5;241m.\u001b[39mBytesIO(midi_data))\n\u001b[0;32m     70\u001b[0m   \u001b[38;5;28;01mexcept\u001b[39;00m:\n\u001b[1;32m---> 71\u001b[0m     \u001b[38;5;28;01mraise\u001b[39;00m MIDIConversionError(\u001b[38;5;124m'\u001b[39m\u001b[38;5;124mMidi decoding error \u001b[39m\u001b[38;5;132;01m%s\u001b[39;00m\u001b[38;5;124m: \u001b[39m\u001b[38;5;132;01m%s\u001b[39;00m\u001b[38;5;124m'\u001b[39m \u001b[38;5;241m%\u001b[39m\n\u001b[0;32m     72\u001b[0m                               (sys\u001b[38;5;241m.\u001b[39mexc_info()[\u001b[38;5;241m0\u001b[39m], sys\u001b[38;5;241m.\u001b[39mexc_info()[\u001b[38;5;241m1\u001b[39m]))\n\u001b[0;32m     73\u001b[0m \u001b[38;5;66;03m# pylint: enable=bare-except\u001b[39;00m\n\u001b[0;32m     75\u001b[0m sequence \u001b[38;5;241m=\u001b[39m music_pb2\u001b[38;5;241m.\u001b[39mNoteSequence()\n",
      "\u001b[1;31mMIDIConversionError\u001b[0m: Midi decoding error <class 'AttributeError'>: module 'numpy' has no attribute 'int'.\n`np.int` was a deprecated alias for the builtin `int`. To avoid this error in existing code, use `int` by itself. Doing this will not modify any behavior and is safe. When replacing `np.int`, you may wish to use e.g. `np.int64` or `np.int32` to specify the precision. If you wish to review your current use, check the release note link for additional information.\nThe aliases was originally deprecated in NumPy 1.20; for more details and guidance see the original release note at:\n    https://numpy.org/devdocs/release/1.20.0-notes.html#deprecations"
     ]
    }
   ],
   "source": [
    "import os\n",
    "import note_seq\n",
    "import pathlib\n",
    "from note_seq import midi_io\n",
    "from note_seq.protobuf import music_pb2\n",
    "\n",
    "def extract_melody(midi_path):\n",
    "    # Parse the MIDI data for separate melody and accompaniment parts.\n",
    "    sequence = midi_io.midi_file_to_sequence_proto(midi_path)\n",
    "\n",
    "    # Extract melodies from the sequence\n",
    "    melodies = note_seq.midi_io.extract_melodies(sequence)\n",
    "    \n",
    "    # If melodies are found, return the first one as the main melody.\n",
    "    # Convert NoteSequence to a string for printing\n",
    "    if len(melodies) > 0:\n",
    "        return note_seq.sequence_proto_to_pretty_midi(melodies[0]).notes\n",
    "    else:\n",
    "        return None\n",
    "\n",
    "\n",
    "folder_path = pathlib.Path('C:/Users/oubra/OneDrive/Documents/maestro-v3.0.0-midi/maestro-v3.0.0/2004')\n",
    "\n",
    "for filename in os.listdir(folder_path):\n",
    "    if filename.endswith(\".midi\") or filename.endswith(\".mid\"):\n",
    "        midi_path = os.path.join(folder_path, filename)\n",
    "        melody = extract_melody(midi_path)\n",
    "        if melody is not None:\n",
    "            print(f\"Melody for {filename}:\")\n",
    "            for note in melody:\n",
    "                print(f\"Start: {note.start}, End: {note.end}, Pitch: {note.pitch}, Velocity: {note.velocity}\")\n",
    "            print(\"\\n\")\n",
    "        else:\n",
    "            print(f\"No melody found for {filename}.\\n\")\n"
   ]
  }
 ],
 "metadata": {
  "kernelspec": {
   "display_name": "Python 3 (ipykernel)",
   "language": "python",
   "name": "python3"
  },
  "language_info": {
   "codemirror_mode": {
    "name": "ipython",
    "version": 3
   },
   "file_extension": ".py",
   "mimetype": "text/x-python",
   "name": "python",
   "nbconvert_exporter": "python",
   "pygments_lexer": "ipython3",
   "version": "3.10.11"
  }
 },
 "nbformat": 4,
 "nbformat_minor": 5
}
